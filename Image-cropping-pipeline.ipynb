{
 "cells": [
  {
   "cell_type": "code",
   "execution_count": 1,
   "metadata": {
    "collapsed": true
   },
   "outputs": [],
   "source": [
    "import numpy as np\n",
    "import pandas as pd\n",
    "import matplotlib.pylab as plt\n",
    "import matplotlib.image as mpimg\n",
    "import os\n",
    "import glob"
   ]
  },
  {
   "cell_type": "code",
   "execution_count": 8,
   "metadata": {
    "collapsed": true
   },
   "outputs": [],
   "source": [
    "class data_loader(object):\n",
    "    def __init__(self,images_directory):\n",
    "        self.paths=os.listdir(images_directory) #individual paths for each image. directory where the images are located is needed\n",
    "        self.images_data_list = {index:plt.imread(images_directory+path) for index,path in zip(range(0,len(self.paths)),self.paths)} # This is a list of numpy arrays for each of the images\n",
    "        self.cropped_data={}\n",
    "        self.stiched_data={}\n",
    "        self.row_crop_range= [i for i in range(0,2401,80)]\n",
    "        self.col_crop_range= [j for j in range(0,2401,80)]\n",
    "\n",
    "    def crop_single_image(self,image_number):\n",
    "        self.cropped_data[image_number]=[] # list of cropped images. Assume images 2448*2448*3\n",
    "        i_crop = self.row_crop_range\n",
    "        j_crop = self.col_crop_range\n",
    "        counter=0\n",
    "        image=self.images_data_list[image_number]\n",
    "        for col in range(0,29):\n",
    "            for row in range(0,29):\n",
    "                temp = image[i_crop[row]:i_crop[row+2],j_crop[col]:j_crop[col+2],:]\n",
    "                #mpimg.imsave(\"image number %s part %s.png\"%(image_number,counter), temp)\n",
    "                self.cropped_data[image_number].append(temp)\n",
    "                counter=counter+1\n",
    "\n",
    "    def crop_all_images(self):\n",
    "        for image_number in self.images_data_list.keys():\n",
    "            self.crop_single_image(image_number)\n",
    "            \n",
    "    def stich_single_image(self,image_number):\n",
    "        stiched = np.zeros((2400,2400,3))\n",
    "        counter=0\n",
    "        i_crop = self.row_crop_range\n",
    "        j_crop = self.col_crop_range\n",
    "        for col in range(0,29):\n",
    "            for row in range(0,29):\n",
    "                temp=self.cropped_data[image_number][counter]\n",
    "                stiched[i_crop[row]:i_crop[row+2],j_crop[col]:j_crop[col+2],:]=stiched[i_crop[row]:i_crop[row+2],j_crop[col]:j_crop[col+2],:] + temp\n",
    "                counter=counter+1\n",
    "\n",
    "        stiched[80:2320,80:2320,:]=stiched[80:2320,80:2320,:]//4\n",
    "        stiched[0:80,80:2320,:]=stiched[0:80,80:2320,:]//2\n",
    "        stiched[2320:2400,80:2320,:]=stiched[2320:2400,80:2320,:]//2\n",
    "        stiched[80:2320,0:80,:]=stiched[80:2320,0:80,:]//2\n",
    "        stiched[80:2320,2320:2400,:]=stiched[80:2320,2320:2400,:]//2\n",
    "        mpimg.imsave(\"stiched %s.png\"%(image_number), stiched)\n",
    "        self.stiched_data[image_number]=stiched\n",
    "        \n",
    "    def stich_all_images(self):\n",
    "        for image_number in self.cropped_data.keys():\n",
    "            self.stich_single_image(image_number)"
   ]
  },
  {
   "cell_type": "code",
   "execution_count": 9,
   "metadata": {},
   "outputs": [],
   "source": [
    "direc = \"/home/native/projects/ML536/FinalProject/foo/\"\n",
    "d = data_loader(direc)\n",
    "d.crop_all_images()\n",
    "d.stich_all_images()"
   ]
  }
 ],
 "metadata": {
  "kernelspec": {
   "display_name": "Python 3",
   "language": "python",
   "name": "python3"
  },
  "language_info": {
   "codemirror_mode": {
    "name": "ipython",
    "version": 3
   },
   "file_extension": ".py",
   "mimetype": "text/x-python",
   "name": "python",
   "nbconvert_exporter": "python",
   "pygments_lexer": "ipython3",
   "version": "3.6.4"
  }
 },
 "nbformat": 4,
 "nbformat_minor": 2
}
